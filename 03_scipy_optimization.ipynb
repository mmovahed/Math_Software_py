{
  "nbformat": 4,
  "nbformat_minor": 0,
  "metadata": {
    "colab": {
      "provenance": [],
      "authorship_tag": "ABX9TyNvleIRkWgpOz/rGUzTtOQF",
      "include_colab_link": true
    },
    "kernelspec": {
      "name": "python3",
      "display_name": "Python 3"
    },
    "language_info": {
      "name": "python"
    }
  },
  "cells": [
    {
      "cell_type": "markdown",
      "metadata": {
        "id": "view-in-github",
        "colab_type": "text"
      },
      "source": [
        "<a href=\"https://colab.research.google.com/github/mmovahed/Math_Software_py/blob/main/scipy_optimization.ipynb\" target=\"_parent\"><img src=\"https://colab.research.google.com/assets/colab-badge.svg\" alt=\"Open In Colab\"/></a>"
      ]
    },
    {
      "cell_type": "markdown",
      "source": [
        "# SciPy Optimization Basics"
      ],
      "metadata": {
        "id": "Rbhnoh-Kmm2_"
      }
    },
    {
      "cell_type": "code",
      "source": [
        "import numpy as np\n",
        "import scipy.optimize as opt\n",
        "\n",
        "# Define an Example Function: f(x) = (x - 3)^2\n",
        "\n",
        "def objective_function(x):\n",
        "    return (x - 3) ** 2\n",
        "\n",
        "# Finding the Minimum of the Function\n",
        "result = opt.minimize(objective_function, x0=0)  # Initial guess x0 = 0\n",
        "print(f\"Minimum found at x = {result.x}, function value = {result.fun}\")"
      ],
      "metadata": {
        "colab": {
          "base_uri": "https://localhost:8080/"
        },
        "id": "t7_Vf8V4mqbs",
        "outputId": "ebb6f880-22b9-4c43-a5f7-16eb646fc4e9"
      },
      "execution_count": 2,
      "outputs": [
        {
          "output_type": "stream",
          "name": "stdout",
          "text": [
            "Minimum found at x = [2.99999998], function value = 2.5388963550532293e-16\n"
          ]
        }
      ]
    },
    {
      "cell_type": "markdown",
      "source": [
        "## Multivariable Optimization"
      ],
      "metadata": {
        "id": "Q9Y2r5BWnAMS"
      }
    },
    {
      "cell_type": "code",
      "source": [
        "def multi_objective_function(x):\n",
        "    return x[0] ** 2 + x[1] ** 2 + x[2] ** 2  # Simple quadratic function\n",
        "\n",
        "initial_guess = [1, 1, 1]\n",
        "result_multi = opt.minimize(multi_objective_function, initial_guess)\n",
        "print(f\"Minimum for multivariable function: {result_multi.x}\")"
      ],
      "metadata": {
        "colab": {
          "base_uri": "https://localhost:8080/"
        },
        "id": "6_Joefe_nEp3",
        "outputId": "ebed042f-257b-4b9b-be06-aabae0d746c9"
      },
      "execution_count": 3,
      "outputs": [
        {
          "output_type": "stream",
          "name": "stdout",
          "text": [
            "Minimum for multivariable function: [-1.66705301e-08 -1.66705302e-08 -1.66705301e-08]\n"
          ]
        }
      ]
    },
    {
      "cell_type": "markdown",
      "source": [
        "## Constrained Optimization"
      ],
      "metadata": {
        "id": "_pUXBi7VnH0y"
      }
    },
    {
      "cell_type": "code",
      "source": [
        "def constrained_function(x):\n",
        "    return x[0] ** 2 + x[1] ** 2\n",
        "\n",
        "def constraint(x):\n",
        "    return x[0] + x[1] - 1  # Constraint: x0 + x1 = 1\n",
        "\n",
        "constraint_eq = {\"type\": \"eq\", \"fun\": constraint}\n",
        "initial_guess = [0.5, 0.5]\n",
        "result_constrained = opt.minimize(constrained_function, initial_guess, constraints=constraint_eq)\n",
        "print(f\"Constrained minimum: {result_constrained.x}\")"
      ],
      "metadata": {
        "colab": {
          "base_uri": "https://localhost:8080/"
        },
        "id": "ZFn08rI3nNg0",
        "outputId": "02dd1523-a0b7-4214-e127-9bf12a4b63a1"
      },
      "execution_count": 4,
      "outputs": [
        {
          "output_type": "stream",
          "name": "stdout",
          "text": [
            "Constrained minimum: [0.5 0.5]\n"
          ]
        }
      ]
    },
    {
      "cell_type": "markdown",
      "source": [
        "## Linear Programming Example"
      ],
      "metadata": {
        "id": "wRQCNFOgnPgF"
      }
    },
    {
      "cell_type": "code",
      "execution_count": 5,
      "metadata": {
        "colab": {
          "base_uri": "https://localhost:8080/"
        },
        "id": "nHb5e8MdmWGE",
        "outputId": "c04c59a0-96db-4129-846e-d80ee97576c9"
      },
      "outputs": [
        {
          "output_type": "stream",
          "name": "stdout",
          "text": [
            "Linear programming solution: [0.  1.5]\n"
          ]
        }
      ],
      "source": [
        "c = [-1, -2]  # Coefficients to minimize\n",
        "A = [[2, 1], [1, 2]]  # Coefficients for inequalities\n",
        "b = [4, 3]  # Right-hand side of inequalities\n",
        "bounds = [(0, None), (0, None)]  # x >= 0, y >= 0\n",
        "\n",
        "linprog_result = opt.linprog(c, A_ub=A, b_ub=b, bounds=bounds, method='highs')\n",
        "print(f\"Linear programming solution: {linprog_result.x}\")\n"
      ]
    }
  ]
}
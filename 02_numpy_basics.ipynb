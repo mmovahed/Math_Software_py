{
  "nbformat": 4,
  "nbformat_minor": 0,
  "metadata": {
    "colab": {
      "provenance": []
    },
    "kernelspec": {
      "name": "python3",
      "display_name": "Python 3"
    },
    "language_info": {
      "name": "python"
    }
  },
  "cells": [
    {
      "cell_type": "markdown",
      "source": [
        "# NumPy Basics for Mathematical Computing"
      ],
      "metadata": {
        "id": "YKqZ_3opL5K0"
      }
    },
    {
      "cell_type": "code",
      "source": [
        "import numpy as np\n"
      ],
      "metadata": {
        "id": "5L6N88SrL8LZ"
      },
      "execution_count": 1,
      "outputs": []
    },
    {
      "cell_type": "markdown",
      "source": [
        "## Creating NumPy Arrays"
      ],
      "metadata": {
        "id": "-c5rZUaSMCXY"
      }
    },
    {
      "cell_type": "code",
      "source": [
        "arr1 = np.array([1, 2, 3, 4, 5])  # 1D Array\n",
        "arr2 = np.array([[1, 2, 3], [4, 5, 6]])  # 2D Array\n",
        "print(f\"1D Array: {arr1}\")\n",
        "print(f\"2D Array: \\n{arr2}\")"
      ],
      "metadata": {
        "colab": {
          "base_uri": "https://localhost:8080/"
        },
        "id": "q6GbpqLVL-QR",
        "outputId": "ec79cbd7-dfcb-4cd6-c3e6-14d66337ffe3"
      },
      "execution_count": 2,
      "outputs": [
        {
          "output_type": "stream",
          "name": "stdout",
          "text": [
            "1D Array: [1 2 3 4 5]\n",
            "2D Array: \n",
            "[[1 2 3]\n",
            " [4 5 6]]\n"
          ]
        }
      ]
    },
    {
      "cell_type": "markdown",
      "source": [
        "## Array Properties"
      ],
      "metadata": {
        "id": "9s3W-eSpMIRo"
      }
    },
    {
      "cell_type": "code",
      "source": [
        "print(f\"Shape: {arr2.shape}, Size: {arr2.size}, Data Type: {arr2.dtype}\")"
      ],
      "metadata": {
        "colab": {
          "base_uri": "https://localhost:8080/"
        },
        "id": "AO3XGROCMKUo",
        "outputId": "828a4a74-3f88-4003-93bc-17d094fa9d20"
      },
      "execution_count": 3,
      "outputs": [
        {
          "output_type": "stream",
          "name": "stdout",
          "text": [
            "Shape: (2, 3), Size: 6, Data Type: int64\n"
          ]
        }
      ]
    },
    {
      "cell_type": "markdown",
      "source": [
        "## Basic Mathematical Operations"
      ],
      "metadata": {
        "id": "Z9I8fs98MMWy"
      }
    },
    {
      "cell_type": "code",
      "source": [
        "arr_sum = arr1 + 2  # Add scalar\n",
        "arr_product = arr1 * 3  # Multiply by scalar\n",
        "arr_sqrt = np.sqrt(arr1)  # Square root\n",
        "\n",
        "print(f\"Array Sum: {arr_sum}\")\n",
        "print(f\"Array Product: {arr_product}\")\n",
        "print(f\"Square Root: {arr_sqrt}\")"
      ],
      "metadata": {
        "colab": {
          "base_uri": "https://localhost:8080/"
        },
        "id": "k9XWVewWMPQ5",
        "outputId": "7c662632-d395-4137-9294-3a0f0b987036"
      },
      "execution_count": 4,
      "outputs": [
        {
          "output_type": "stream",
          "name": "stdout",
          "text": [
            "Array Sum: [3 4 5 6 7]\n",
            "Array Product: [ 3  6  9 12 15]\n",
            "Square Root: [1.         1.41421356 1.73205081 2.         2.23606798]\n"
          ]
        }
      ]
    },
    {
      "cell_type": "markdown",
      "source": [
        "## Matrix Operations"
      ],
      "metadata": {
        "id": "IJR_OJ1aMOGg"
      }
    },
    {
      "cell_type": "code",
      "source": [
        "matrix1 = np.array([[1, 2], [3, 4]])\n",
        "matrix2 = np.array([[5, 6], [7, 8]])\n",
        "\n",
        "matrix_sum = matrix1 + matrix2\n",
        "matrix_product = np.dot(matrix1, matrix2)  # Matrix multiplication\n",
        "matrix_transpose = matrix1.T\n",
        "\n",
        "print(f\"Matrix Sum:\\n{matrix_sum}\")\n",
        "print(f\"Matrix Product:\\n{matrix_product}\")\n",
        "print(f\"Matrix Transpose:\\n{matrix_transpose}\")"
      ],
      "metadata": {
        "colab": {
          "base_uri": "https://localhost:8080/"
        },
        "id": "yQcUsr11MR7Q",
        "outputId": "76173bbb-5869-4ac1-834f-2db8545cf41b"
      },
      "execution_count": 5,
      "outputs": [
        {
          "output_type": "stream",
          "name": "stdout",
          "text": [
            "Matrix Sum:\n",
            "[[ 6  8]\n",
            " [10 12]]\n",
            "Matrix Product:\n",
            "[[19 22]\n",
            " [43 50]]\n",
            "Matrix Transpose:\n",
            "[[1 3]\n",
            " [2 4]]\n"
          ]
        }
      ]
    },
    {
      "cell_type": "markdown",
      "source": [
        "## Generating Special Arrays"
      ],
      "metadata": {
        "id": "CFMUN-a1MUnw"
      }
    },
    {
      "cell_type": "code",
      "execution_count": 6,
      "metadata": {
        "colab": {
          "base_uri": "https://localhost:8080/"
        },
        "id": "d9ENfVgDLyA8",
        "outputId": "05dd269f-dee0-4a46-8a30-4c77230dc76d"
      },
      "outputs": [
        {
          "output_type": "stream",
          "name": "stdout",
          "text": [
            "Zeros Array:\n",
            "[[0. 0. 0.]\n",
            " [0. 0. 0.]\n",
            " [0. 0. 0.]]\n",
            "Ones Array:\n",
            "[[1. 1.]\n",
            " [1. 1.]]\n",
            "Random Array:\n",
            "[[0.81258578 0.12574909 0.27789946]\n",
            " [0.09683016 0.13222386 0.7623706 ]\n",
            " [0.11091833 0.69086525 0.58708684]]\n"
          ]
        }
      ],
      "source": [
        "zeros_arr = np.zeros((3, 3))\n",
        "ones_arr = np.ones((2, 2))\n",
        "random_arr = np.random.rand(3, 3)\n",
        "\n",
        "print(f\"Zeros Array:\\n{zeros_arr}\")\n",
        "print(f\"Ones Array:\\n{ones_arr}\")\n",
        "print(f\"Random Array:\\n{random_arr}\")\n"
      ]
    }
  ]
}
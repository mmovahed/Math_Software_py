{
  "cells": [
    {
      "cell_type": "markdown",
      "metadata": {
        "id": "Hssgiq8iKj6u"
      },
      "source": [
        "# Introduction to Python for Mathematical Computing"
      ]
    },
    {
      "cell_type": "markdown",
      "metadata": {
        "id": "HqmOfBMMKmE0"
      },
      "source": [
        "# Basic Python Syntax"
      ]
    },
    {
      "cell_type": "code",
      "execution_count": 2,
      "metadata": {
        "colab": {
          "base_uri": "https://localhost:8080/"
        },
        "id": "VB7ubwVMKnw7",
        "outputId": "b9b1c1fb-2686-4b15-b8bd-48c1b0033ac7"
      },
      "outputs": [
        {
          "name": "stdout",
          "output_type": "stream",
          "text": [
            "Hello, Math with Python!\n"
          ]
        }
      ],
      "source": [
        "print(\"Hello, Math with Python!\")"
      ]
    },
    {
      "cell_type": "markdown",
      "metadata": {
        "id": "9YfsYn9cKqMT"
      },
      "source": [
        "# Variables and Data Types"
      ]
    },
    {
      "cell_type": "code",
      "execution_count": 3,
      "metadata": {
        "colab": {
          "base_uri": "https://localhost:8080/"
        },
        "id": "xQkzR2FJKsqr",
        "outputId": "0e339fca-04fb-4fd0-e81c-58e85280dcd5"
      },
      "outputs": [
        {
          "name": "stdout",
          "output_type": "stream",
          "text": [
            "x: 10, y: 3.14, z: Mathematics\n"
          ]
        }
      ],
      "source": [
        "x = 10  # Integer\n",
        "y = 3.14  # Float\n",
        "z = \"Mathematics\"  # String\n",
        "\n",
        "print(f\"x: {x}, y: {y}, z: {z}\")"
      ]
    },
    {
      "cell_type": "markdown",
      "metadata": {
        "id": "AI3ypIhzKuV8"
      },
      "source": [
        "# Basic Arithmetic Operations"
      ]
    },
    {
      "cell_type": "code",
      "execution_count": 4,
      "metadata": {
        "colab": {
          "base_uri": "https://localhost:8080/"
        },
        "id": "1pbQUjZEKwVz",
        "outputId": "f1967b46-0e80-4237-a643-f75ae697398f"
      },
      "outputs": [
        {
          "name": "stdout",
          "output_type": "stream",
          "text": [
            "Sum: 13.14, Product: 31.400000000000002, Power: 100\n"
          ]
        }
      ],
      "source": [
        "sum_xy = x + y\n",
        "product_xy = x * y\n",
        "power_x2 = x ** 2  # x squared\n",
        "\n",
        "print(f\"Sum: {sum_xy}, Product: {product_xy}, Power: {power_x2}\")"
      ]
    },
    {
      "cell_type": "markdown",
      "metadata": {
        "id": "8zix15vZK1nL"
      },
      "source": [
        "# Conditional Statements"
      ]
    },
    {
      "cell_type": "code",
      "execution_count": 5,
      "metadata": {
        "colab": {
          "base_uri": "https://localhost:8080/"
        },
        "id": "GoOtlbreK3Zs",
        "outputId": "ed280c47-41ef-4d54-9da0-1e06dc4377c0"
      },
      "outputs": [
        {
          "name": "stdout",
          "output_type": "stream",
          "text": [
            "x is greater than y\n"
          ]
        }
      ],
      "source": [
        "if x > y:\n",
        "    print(\"x is greater than y\")\n",
        "else:\n",
        "    print(\"x is not greater than y\")"
      ]
    },
    {
      "cell_type": "markdown",
      "metadata": {
        "id": "Z262lOo5K5BD"
      },
      "source": [
        "# Loops"
      ]
    },
    {
      "cell_type": "code",
      "execution_count": 9,
      "metadata": {
        "colab": {
          "base_uri": "https://localhost:8080/"
        },
        "id": "JmEZusiWK6ic",
        "outputId": "dc11f920-48f0-4c15-c424-7cf83fb89f45"
      },
      "outputs": [
        {
          "name": "stdout",
          "output_type": "stream",
          "text": [
            "Iteration 0\n",
            "Iteration 1\n",
            "Iteration 2\n",
            "Iteration 3\n",
            "Iteration 4\n"
          ]
        }
      ],
      "source": [
        "for i in range(5):\n",
        "    print(f\"Iteration {i}\")"
      ]
    },
    {
      "cell_type": "markdown",
      "metadata": {
        "id": "GfLo2QCUK8_7"
      },
      "source": [
        "# Functions"
      ]
    },
    {
      "cell_type": "code",
      "execution_count": 12,
      "metadata": {
        "colab": {
          "base_uri": "https://localhost:8080/"
        },
        "id": "F3Cr42sNK_CL",
        "outputId": "a73cd26c-2300-4b82-a791-3e1643c3e75c"
      },
      "outputs": [
        {
          "name": "stdout",
          "output_type": "stream",
          "text": [
            "Square of 4: 16\n"
          ]
        }
      ],
      "source": [
        "def square(n):\n",
        "    a = n ** 2\n",
        "    return a\n",
        "\n",
        "print(f\"Square of 4: {square(4)}\")"
      ]
    },
    {
      "cell_type": "markdown",
      "metadata": {
        "id": "ljKhi5BGLAzD"
      },
      "source": [
        "# Importing Libraries"
      ]
    },
    {
      "cell_type": "code",
      "execution_count": 13,
      "metadata": {
        "id": "Av-NS0HiLC_T"
      },
      "outputs": [],
      "source": [
        "import numpy as np"
      ]
    },
    {
      "cell_type": "markdown",
      "metadata": {
        "id": "hpfW1tJnLE3s"
      },
      "source": [
        "# NumPy Arrays"
      ]
    },
    {
      "cell_type": "code",
      "execution_count": 15,
      "metadata": {
        "colab": {
          "base_uri": "https://localhost:8080/"
        },
        "id": "w6StC2l-LGvr",
        "outputId": "74afb4b6-a31d-421e-c015-26b97b78a3ca"
      },
      "outputs": [
        {
          "name": "stdout",
          "output_type": "stream",
          "text": [
            "NumPy Array: [1 2 3 4 5 6]\n"
          ]
        }
      ],
      "source": [
        "arr = np.array([1, 2, 3, 4, 5 , 6])\n",
        "print(f\"NumPy Array: {arr}\")"
      ]
    },
    {
      "cell_type": "markdown",
      "metadata": {
        "id": "58s_J9fsLIDr"
      },
      "source": [
        "# Basic NumPy Operations"
      ]
    },
    {
      "cell_type": "code",
      "execution_count": 21,
      "metadata": {
        "colab": {
          "base_uri": "https://localhost:8080/"
        },
        "id": "bqy6R-hfKfYd",
        "outputId": "254a85ca-1669-46a8-9a1b-0bcb50892186"
      },
      "outputs": [
        {
          "name": "stdout",
          "output_type": "stream",
          "text": [
            "Mean: 3.5, Standard Deviation: 1.707825127659933\n"
          ]
        }
      ],
      "source": [
        "mean_arr = np.mean(arr)\n",
        "std_arr = np.std(arr)\n",
        "\n",
        "print(f\"Mean: {mean_arr}, Standard Deviation: {std_arr}\")"
      ]
    }
  ],
  "metadata": {
    "colab": {
      "provenance": []
    },
    "kernelspec": {
      "display_name": "Python 3",
      "name": "python3"
    },
    "language_info": {
      "codemirror_mode": {
        "name": "ipython",
        "version": 3
      },
      "file_extension": ".py",
      "mimetype": "text/x-python",
      "name": "python",
      "nbconvert_exporter": "python",
      "pygments_lexer": "ipython3",
      "version": "3.11.9"
    }
  },
  "nbformat": 4,
  "nbformat_minor": 0
}

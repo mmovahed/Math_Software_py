{
  "nbformat": 4,
  "nbformat_minor": 0,
  "metadata": {
    "colab": {
      "provenance": []
    },
    "kernelspec": {
      "name": "python3",
      "display_name": "Python 3"
    },
    "language_info": {
      "name": "python"
    }
  },
  "cells": [
    {
      "cell_type": "markdown",
      "source": [
        "# Introduction to Python for Mathematical Computing"
      ],
      "metadata": {
        "id": "Hssgiq8iKj6u"
      }
    },
    {
      "cell_type": "markdown",
      "source": [
        "# Basic Python Syntax"
      ],
      "metadata": {
        "id": "HqmOfBMMKmE0"
      }
    },
    {
      "cell_type": "code",
      "source": [
        "print(\"Hello, Math with Python!\")"
      ],
      "metadata": {
        "colab": {
          "base_uri": "https://localhost:8080/"
        },
        "id": "VB7ubwVMKnw7",
        "outputId": "b9b1c1fb-2686-4b15-b8bd-48c1b0033ac7"
      },
      "execution_count": 1,
      "outputs": [
        {
          "output_type": "stream",
          "name": "stdout",
          "text": [
            "Hello, Math with Python!\n"
          ]
        }
      ]
    },
    {
      "cell_type": "markdown",
      "source": [
        "# Variables and Data Types"
      ],
      "metadata": {
        "id": "9YfsYn9cKqMT"
      }
    },
    {
      "cell_type": "code",
      "source": [
        "x = 10  # Integer\n",
        "y = 3.14  # Float\n",
        "z = \"Mathematics\"  # String\n",
        "\n",
        "print(f\"x: {x}, y: {y}, z: {z}\")"
      ],
      "metadata": {
        "colab": {
          "base_uri": "https://localhost:8080/"
        },
        "id": "xQkzR2FJKsqr",
        "outputId": "0e339fca-04fb-4fd0-e81c-58e85280dcd5"
      },
      "execution_count": 2,
      "outputs": [
        {
          "output_type": "stream",
          "name": "stdout",
          "text": [
            "x: 10, y: 3.14, z: Mathematics\n"
          ]
        }
      ]
    },
    {
      "cell_type": "markdown",
      "source": [
        "# Basic Arithmetic Operations"
      ],
      "metadata": {
        "id": "AI3ypIhzKuV8"
      }
    },
    {
      "cell_type": "code",
      "source": [
        "sum_xy = x + y\n",
        "product_xy = x * y\n",
        "power_x2 = x ** 2  # x squared\n",
        "\n",
        "print(f\"Sum: {sum_xy}, Product: {product_xy}, Power: {power_x2}\")"
      ],
      "metadata": {
        "colab": {
          "base_uri": "https://localhost:8080/"
        },
        "id": "1pbQUjZEKwVz",
        "outputId": "f1967b46-0e80-4237-a643-f75ae697398f"
      },
      "execution_count": 3,
      "outputs": [
        {
          "output_type": "stream",
          "name": "stdout",
          "text": [
            "Sum: 13.14, Product: 31.400000000000002, Power: 100\n"
          ]
        }
      ]
    },
    {
      "cell_type": "markdown",
      "source": [
        "# Conditional Statements"
      ],
      "metadata": {
        "id": "8zix15vZK1nL"
      }
    },
    {
      "cell_type": "code",
      "source": [
        "if x > y:\n",
        "    print(\"x is greater than y\")\n",
        "else:\n",
        "    print(\"x is not greater than y\")"
      ],
      "metadata": {
        "colab": {
          "base_uri": "https://localhost:8080/"
        },
        "id": "GoOtlbreK3Zs",
        "outputId": "ed280c47-41ef-4d54-9da0-1e06dc4377c0"
      },
      "execution_count": 4,
      "outputs": [
        {
          "output_type": "stream",
          "name": "stdout",
          "text": [
            "x is greater than y\n"
          ]
        }
      ]
    },
    {
      "cell_type": "markdown",
      "source": [
        "# Loops"
      ],
      "metadata": {
        "id": "Z262lOo5K5BD"
      }
    },
    {
      "cell_type": "code",
      "source": [
        "for i in range(5):\n",
        "    print(f\"Iteration {i}\")"
      ],
      "metadata": {
        "colab": {
          "base_uri": "https://localhost:8080/"
        },
        "id": "JmEZusiWK6ic",
        "outputId": "dc11f920-48f0-4c15-c424-7cf83fb89f45"
      },
      "execution_count": 5,
      "outputs": [
        {
          "output_type": "stream",
          "name": "stdout",
          "text": [
            "Iteration 0\n",
            "Iteration 1\n",
            "Iteration 2\n",
            "Iteration 3\n",
            "Iteration 4\n"
          ]
        }
      ]
    },
    {
      "cell_type": "markdown",
      "source": [
        "# Functions"
      ],
      "metadata": {
        "id": "GfLo2QCUK8_7"
      }
    },
    {
      "cell_type": "code",
      "source": [
        "def square(n):\n",
        "    return n ** 2\n",
        "\n",
        "print(f\"Square of 5: {square(5)}\")"
      ],
      "metadata": {
        "colab": {
          "base_uri": "https://localhost:8080/"
        },
        "id": "F3Cr42sNK_CL",
        "outputId": "a73cd26c-2300-4b82-a791-3e1643c3e75c"
      },
      "execution_count": 6,
      "outputs": [
        {
          "output_type": "stream",
          "name": "stdout",
          "text": [
            "Square of 5: 25\n"
          ]
        }
      ]
    },
    {
      "cell_type": "markdown",
      "source": [
        "# Importing Libraries"
      ],
      "metadata": {
        "id": "ljKhi5BGLAzD"
      }
    },
    {
      "cell_type": "code",
      "source": [
        "import numpy as np"
      ],
      "metadata": {
        "id": "Av-NS0HiLC_T"
      },
      "execution_count": 7,
      "outputs": []
    },
    {
      "cell_type": "markdown",
      "source": [
        "# NumPy Arrays"
      ],
      "metadata": {
        "id": "hpfW1tJnLE3s"
      }
    },
    {
      "cell_type": "code",
      "source": [
        "arr = np.array([1, 2, 3, 4, 5])\n",
        "print(f\"NumPy Array: {arr}\")"
      ],
      "metadata": {
        "colab": {
          "base_uri": "https://localhost:8080/"
        },
        "id": "w6StC2l-LGvr",
        "outputId": "74afb4b6-a31d-421e-c015-26b97b78a3ca"
      },
      "execution_count": 8,
      "outputs": [
        {
          "output_type": "stream",
          "name": "stdout",
          "text": [
            "NumPy Array: [1 2 3 4 5]\n"
          ]
        }
      ]
    },
    {
      "cell_type": "markdown",
      "source": [
        "# Basic NumPy Operations"
      ],
      "metadata": {
        "id": "58s_J9fsLIDr"
      }
    },
    {
      "cell_type": "code",
      "execution_count": 9,
      "metadata": {
        "colab": {
          "base_uri": "https://localhost:8080/"
        },
        "id": "bqy6R-hfKfYd",
        "outputId": "254a85ca-1669-46a8-9a1b-0bcb50892186"
      },
      "outputs": [
        {
          "output_type": "stream",
          "name": "stdout",
          "text": [
            "Mean: 3.0, Standard Deviation: 1.4142135623730951\n"
          ]
        }
      ],
      "source": [
        "mean_arr = np.mean(arr)\n",
        "std_arr = np.std(arr)\n",
        "\n",
        "print(f\"Mean: {mean_arr}, Standard Deviation: {std_arr}\")"
      ]
    }
  ]
}
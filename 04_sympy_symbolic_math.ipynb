{
 "cells": [
  {
   "cell_type": "markdown",
   "metadata": {},
   "source": [
    "# Symbolic Mathematics with SymPy"
   ]
  },
  {
   "cell_type": "code",
   "execution_count": 2,
   "metadata": {},
   "outputs": [],
   "source": [
    "\n",
    "import sympy as sp\n"
   ]
  },
  {
   "cell_type": "markdown",
   "metadata": {},
   "source": [
    "## Define symbolic variables\n"
   ]
  },
  {
   "cell_type": "code",
   "execution_count": 3,
   "metadata": {},
   "outputs": [],
   "source": [
    "\n",
    "x, y = sp.symbols('x y')"
   ]
  },
  {
   "cell_type": "markdown",
   "metadata": {},
   "source": [
    "## Basic symbolic expressions\n"
   ]
  },
  {
   "cell_type": "code",
   "execution_count": 4,
   "metadata": {},
   "outputs": [
    {
     "name": "stdout",
     "output_type": "stream",
     "text": [
      "Expression 1: x**2 + 2*x + 1\n",
      "Expression 2: exp(x)*sin(x)\n"
     ]
    }
   ],
   "source": [
    "\n",
    "expr1 = x**2 + 2*x + 1\n",
    "expr2 = sp.sin(x) * sp.exp(x)\n",
    "\n",
    "print(\"Expression 1:\", expr1)\n",
    "print(\"Expression 2:\", expr2)\n"
   ]
  },
  {
   "cell_type": "markdown",
   "metadata": {},
   "source": [
    "## Simplification\n"
   ]
  },
  {
   "cell_type": "code",
   "execution_count": 5,
   "metadata": {},
   "outputs": [
    {
     "name": "stdout",
     "output_type": "stream",
     "text": [
      "Simplified expression: x**2 + 2*x + 1\n"
     ]
    }
   ],
   "source": [
    "\n",
    "simplified_expr = sp.simplify(expr1)\n",
    "print(\"Simplified expression:\", simplified_expr)\n"
   ]
  },
  {
   "cell_type": "markdown",
   "metadata": {},
   "source": [
    "\n",
    "## Expansion\n"
   ]
  },
  {
   "cell_type": "code",
   "execution_count": 6,
   "metadata": {},
   "outputs": [
    {
     "name": "stdout",
     "output_type": "stream",
     "text": [
      "Expanded expression: x**3 + 3*x**2 + 3*x + 1\n"
     ]
    }
   ],
   "source": [
    "expanded_expr = sp.expand((x + 1)**3)\n",
    "print(\"Expanded expression:\", expanded_expr)\n"
   ]
  },
  {
   "cell_type": "markdown",
   "metadata": {},
   "source": [
    "## Factorization\n"
   ]
  },
  {
   "cell_type": "code",
   "execution_count": 7,
   "metadata": {},
   "outputs": [
    {
     "name": "stdout",
     "output_type": "stream",
     "text": [
      "Factored expression: (x + 2)*(x + 3)\n"
     ]
    }
   ],
   "source": [
    "factored_expr = sp.factor(x**2 + 5*x + 6)\n",
    "print(\"Factored expression:\", factored_expr)"
   ]
  },
  {
   "cell_type": "markdown",
   "metadata": {},
   "source": [
    "## Substitution"
   ]
  },
  {
   "cell_type": "code",
   "execution_count": 8,
   "metadata": {},
   "outputs": [
    {
     "name": "stdout",
     "output_type": "stream",
     "text": [
      "Expression with x=3: 16\n"
     ]
    }
   ],
   "source": [
    "substituted = expr1.subs(x, 3)\n",
    "print(\"Expression with x=3:\", substituted)\n"
   ]
  },
  {
   "cell_type": "markdown",
   "metadata": {},
   "source": [
    "## Differentiation"
   ]
  },
  {
   "cell_type": "code",
   "execution_count": 9,
   "metadata": {},
   "outputs": [
    {
     "name": "stdout",
     "output_type": "stream",
     "text": [
      "Derivative of expr2: exp(x)*sin(x) + exp(x)*cos(x)\n"
     ]
    }
   ],
   "source": [
    "derivative_expr = sp.diff(expr2, x)\n",
    "print(\"Derivative of expr2:\", derivative_expr)"
   ]
  },
  {
   "cell_type": "markdown",
   "metadata": {},
   "source": [
    "## Integration"
   ]
  },
  {
   "cell_type": "code",
   "execution_count": 10,
   "metadata": {},
   "outputs": [
    {
     "name": "stdout",
     "output_type": "stream",
     "text": [
      "Integral of expr2: exp(x)*sin(x)/2 - exp(x)*cos(x)/2\n"
     ]
    }
   ],
   "source": [
    "integral_expr = sp.integrate(expr2, x)\n",
    "print(\"Integral of expr2:\", integral_expr)"
   ]
  },
  {
   "cell_type": "markdown",
   "metadata": {},
   "source": [
    "## Solving equations\n"
   ]
  },
  {
   "cell_type": "code",
   "execution_count": 11,
   "metadata": {},
   "outputs": [
    {
     "name": "stdout",
     "output_type": "stream",
     "text": [
      "Solutions of x^2 - 4 = 0: [-2, 2]\n"
     ]
    }
   ],
   "source": [
    "\n",
    "solution = sp.solve(x**2 - 4, x)\n",
    "print(\"Solutions of x^2 - 4 = 0:\", solution)"
   ]
  },
  {
   "cell_type": "markdown",
   "metadata": {},
   "source": [
    "## Defining functions and plotting (if needed)\n"
   ]
  },
  {
   "cell_type": "code",
   "execution_count": 12,
   "metadata": {},
   "outputs": [
    {
     "name": "stdout",
     "output_type": "stream",
     "text": [
      "f(2) = 3\n"
     ]
    }
   ],
   "source": [
    "f = sp.Lambda(x, x**3 - 3*x + 1)\n",
    "print(\"f(2) =\", f(2))\n"
   ]
  }
 ],
 "metadata": {
  "kernelspec": {
   "display_name": "Python 3",
   "language": "python",
   "name": "python3"
  },
  "language_info": {
   "codemirror_mode": {
    "name": "ipython",
    "version": 3
   },
   "file_extension": ".py",
   "mimetype": "text/x-python",
   "name": "python",
   "nbconvert_exporter": "python",
   "pygments_lexer": "ipython3",
   "version": "3.11.9"
  }
 },
 "nbformat": 4,
 "nbformat_minor": 2
}
